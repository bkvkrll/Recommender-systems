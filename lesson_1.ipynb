{
  "nbformat": 4,
  "nbformat_minor": 0,
  "metadata": {
    "colab": {
      "name": "lesson_1.ipynb",
      "provenance": [],
      "authorship_tag": "ABX9TyNX9hoKRu5yJNQpixdT6Viy",
      "include_colab_link": true
    },
    "kernelspec": {
      "name": "python3",
      "display_name": "Python 3"
    },
    "language_info": {
      "name": "python"
    }
  },
  "cells": [
    {
      "cell_type": "markdown",
      "metadata": {
        "id": "view-in-github",
        "colab_type": "text"
      },
      "source": [
        "<a href=\"https://colab.research.google.com/github/bkvkrll/Recommender-systems/blob/main/lesson_1.ipynb\" target=\"_parent\"><img src=\"https://colab.research.google.com/assets/colab-badge.svg\" alt=\"Open In Colab\"/></a>"
      ]
    },
    {
      "cell_type": "code",
      "execution_count": 1,
      "metadata": {
        "id": "iDbsCpC9lRJD"
      },
      "outputs": [],
      "source": [
        "import pandas as pd\n",
        "import numpy as np"
      ]
    },
    {
      "cell_type": "code",
      "source": [
        "recommended_list = [143, 156, 1134, 991, 27, 1543, 3345, 533, 11, 43] #id товаров\n",
        "bought_list = [521, 32, 143, 991]\n",
        "prices_recommended = [400, 60, 40, 40, 90]\n",
        "prices_bought = [400, 60, 40, 40 , 90]"
      ],
      "metadata": {
        "id": "EqtHRPutoK3r"
      },
      "execution_count": 2,
      "outputs": []
    },
    {
      "cell_type": "markdown",
      "source": [
        "ML-mетрики качества"
      ],
      "metadata": {
        "id": "u6Faie9yoTLq"
      }
    },
    {
      "cell_type": "markdown",
      "source": [
        "1. Hit rate"
      ],
      "metadata": {
        "id": "uSffpTBRpfIF"
      }
    },
    {
      "cell_type": "code",
      "source": [
        "def hit_rate(recommended_list, bought_list):\n",
        "    bought_list = np.array(bought_list)\n",
        "    recommended_list = np.array(recommended_list)\n",
        "    \n",
        "    flags = np.isin(bought_list, recommended_list)\n",
        "    return (flags.sum() > 0) * 1"
      ],
      "metadata": {
        "id": "XMn_SgeCoRA2"
      },
      "execution_count": 3,
      "outputs": []
    },
    {
      "cell_type": "code",
      "source": [
        "def hit_rate_at_k(recommended_list, bought_list, k=5):\n",
        "    return hit_rate(np.array(recommended_list)[0:k], bought_list)"
      ],
      "metadata": {
        "id": "i8UyOBGWoYe6"
      },
      "execution_count": 4,
      "outputs": []
    },
    {
      "cell_type": "code",
      "source": [
        "hit_rate(recommended_list, bought_list)"
      ],
      "metadata": {
        "colab": {
          "base_uri": "https://localhost:8080/"
        },
        "id": "4Rmw-1WLo3vt",
        "outputId": "b7f50dff-a595-4d02-b79f-75232a9309b9"
      },
      "execution_count": 5,
      "outputs": [
        {
          "output_type": "execute_result",
          "data": {
            "text/plain": [
              "1"
            ]
          },
          "metadata": {},
          "execution_count": 5
        }
      ]
    },
    {
      "cell_type": "code",
      "source": [
        "hit_rate_at_k(recommended_list, bought_list, 5)"
      ],
      "metadata": {
        "colab": {
          "base_uri": "https://localhost:8080/"
        },
        "id": "wqwAPOWCo8WG",
        "outputId": "c84f7036-716e-494c-fc58-5579ccc25efb"
      },
      "execution_count": 6,
      "outputs": [
        {
          "output_type": "execute_result",
          "data": {
            "text/plain": [
              "1"
            ]
          },
          "metadata": {},
          "execution_count": 6
        }
      ]
    },
    {
      "cell_type": "markdown",
      "source": [
        "2. Precision"
      ],
      "metadata": {
        "id": "OZICVf6Qpihx"
      }
    },
    {
      "cell_type": "code",
      "source": [
        "def precision(recommended_list, bought_list):\n",
        "    \n",
        "    bought_list = np.array(bought_list)\n",
        "    recommended_list = np.array(recommended_list)\n",
        "    \n",
        "    flags = np.isin(bought_list, recommended_list)\n",
        "    return flags.sum() / len(recommended_list)\n",
        "\n",
        "\n",
        "def precision_at_k(recommended_list, bought_list, k=5):\n",
        "    return precision(recommended_list[:k], bought_list)\n",
        "\n",
        "\n",
        "def money_precision_at_k_(recommended_list, bought_list, prices_recommended, k=5):\n",
        "    \n",
        "    recommend_list = np.array(recommended_list)[:k]\n",
        "    prices_recommended = np.array(prices_recommended)[:k]\n",
        "    \n",
        "    flags = np.isin(recommend_list, bought_list)\n",
        "    \n",
        "    precision = np.dot(flags, prices_recommended).sum() / prices_recommended.sum()\n",
        "    \n",
        "    return precision"
      ],
      "metadata": {
        "id": "l-rzaPKPpk8F"
      },
      "execution_count": 7,
      "outputs": []
    },
    {
      "cell_type": "code",
      "source": [
        "precision(recommended_list, bought_list)"
      ],
      "metadata": {
        "colab": {
          "base_uri": "https://localhost:8080/"
        },
        "id": "4NsI-0p-qEfL",
        "outputId": "26b750c7-fc17-41b9-e5c5-c41e6c51aa30"
      },
      "execution_count": 8,
      "outputs": [
        {
          "output_type": "execute_result",
          "data": {
            "text/plain": [
              "0.2"
            ]
          },
          "metadata": {},
          "execution_count": 8
        }
      ]
    },
    {
      "cell_type": "code",
      "source": [
        "precision_at_k(recommended_list, bought_list, k=5)"
      ],
      "metadata": {
        "colab": {
          "base_uri": "https://localhost:8080/"
        },
        "id": "2hFMrupdqGWb",
        "outputId": "7ede3f1a-7f6b-49fc-ac28-d59754ebafb8"
      },
      "execution_count": 9,
      "outputs": [
        {
          "output_type": "execute_result",
          "data": {
            "text/plain": [
              "0.4"
            ]
          },
          "metadata": {},
          "execution_count": 9
        }
      ]
    },
    {
      "cell_type": "code",
      "source": [
        "money_precision_at_k_(recommended_list, bought_list, prices_recommended, k=5)"
      ],
      "metadata": {
        "colab": {
          "base_uri": "https://localhost:8080/"
        },
        "id": "W74j2IguqYr2",
        "outputId": "e6d65823-7dc4-40aa-ddb3-cfc598dc25ba"
      },
      "execution_count": 10,
      "outputs": [
        {
          "output_type": "execute_result",
          "data": {
            "text/plain": [
              "0.6984126984126984"
            ]
          },
          "metadata": {},
          "execution_count": 10
        }
      ]
    },
    {
      "cell_type": "markdown",
      "source": [
        "3. Recall"
      ],
      "metadata": {
        "id": "BFusN2pOqK21"
      }
    },
    {
      "cell_type": "code",
      "source": [
        "def recall(recommended_list, bought_list):\n",
        "    \n",
        "    bought_list = np.array(bought_list)\n",
        "    recommended_list = np.array(recommended_list)\n",
        "    \n",
        "    flags = np.isin(bought_list, recommended_list)\n",
        "    return flags.sum() / len(bought_list)\n",
        "    \n",
        "\n",
        "def recall_at_k(recommended_list, bought_list, k=5):\n",
        "    bought_list = np.array(bought_list)\n",
        "    recommended_list = np.array(recommended_list[:k])\n",
        "    \n",
        "    flags = np.isin(bought_list, recommended_list)\n",
        "    \n",
        "    recall = flags.sum() / len(bought_list)\n",
        "    \n",
        "    return recall\n",
        "\n",
        "\n",
        "\n",
        "def money_recall_at_k(recommended_list, bought_list, prices_recommended, prices_bought, k=5):\n",
        "    bought_list = np.array(bought_list)\n",
        "    recommended_list = np.array(recommended_list[:k])\n",
        "    prices_recommended_list =prices_recommended[:k]\n",
        "    prices_bought_list = prices_bought\n",
        "    \n",
        "    flags = np.isin(recommended_list, bought_list)\n",
        "    \n",
        "    recall = sum(flags * prices_recommended_list)  / sum(prices_bought_list)\n",
        "    \n",
        "    return recall"
      ],
      "metadata": {
        "id": "kCqOeRS5qLkE"
      },
      "execution_count": 11,
      "outputs": []
    },
    {
      "cell_type": "code",
      "source": [
        "recall(recommended_list, bought_list)"
      ],
      "metadata": {
        "colab": {
          "base_uri": "https://localhost:8080/"
        },
        "id": "PuOga4o5qtyW",
        "outputId": "a12e195a-f131-41d4-9116-5d49272d3cad"
      },
      "execution_count": 12,
      "outputs": [
        {
          "output_type": "execute_result",
          "data": {
            "text/plain": [
              "0.5"
            ]
          },
          "metadata": {},
          "execution_count": 12
        }
      ]
    },
    {
      "cell_type": "code",
      "source": [
        "recall_at_k(recommended_list, bought_list, k=5)"
      ],
      "metadata": {
        "colab": {
          "base_uri": "https://localhost:8080/"
        },
        "id": "ggcC_eV6qvxD",
        "outputId": "a66febc4-2f5c-4d89-d79c-13b2a61b8321"
      },
      "execution_count": 13,
      "outputs": [
        {
          "output_type": "execute_result",
          "data": {
            "text/plain": [
              "0.5"
            ]
          },
          "metadata": {},
          "execution_count": 13
        }
      ]
    },
    {
      "cell_type": "code",
      "source": [
        "money_recall_at_k(recommended_list, bought_list, prices_recommended, prices_bought, k=5)"
      ],
      "metadata": {
        "colab": {
          "base_uri": "https://localhost:8080/"
        },
        "id": "HsQdz06zqxSi",
        "outputId": "57d8a653-a7fc-4d74-f923-28cc2e83e94a"
      },
      "execution_count": 14,
      "outputs": [
        {
          "output_type": "execute_result",
          "data": {
            "text/plain": [
              "0.6984126984126984"
            ]
          },
          "metadata": {},
          "execution_count": 14
        }
      ]
    },
    {
      "cell_type": "markdown",
      "source": [
        "Метрики ранжирования"
      ],
      "metadata": {
        "id": "kPh0HxZzq8Rr"
      }
    },
    {
      "cell_type": "markdown",
      "source": [
        "AP@k"
      ],
      "metadata": {
        "id": "O-dtLrdNq80l"
      }
    },
    {
      "cell_type": "code",
      "source": [
        "recommended_list = [221,21,3234,1,234,234,234,666] #id товаров\n",
        "bought_list = [1,221,3,4,5,6,7,8,9]"
      ],
      "metadata": {
        "id": "RRh6JMJrq-op"
      },
      "execution_count": 15,
      "outputs": []
    },
    {
      "cell_type": "code",
      "source": [
        "def ap_k(recommended_list, bought_list, k=5):\n",
        "    \n",
        "    bought_list = np.array(bought_list)\n",
        "    recommended_list = np.array(recommended_list)[:k]\n",
        "    \n",
        "    relevant_indexes = np.nonzero(np.isin(recommended_list, bought_list))[0]\n",
        "    if len(relevant_indexes) == 0:\n",
        "        return 0\n",
        "    \n",
        "    amount_relevant = len(relevant_indexes)\n",
        "            \n",
        "    sum_ = sum([precision_at_k(recommended_list, bought_list, k=index_relevant+1) for index_relevant in relevant_indexes])\n",
        "    return sum_/amount_relevant"
      ],
      "metadata": {
        "id": "l1eWImkDrNVz"
      },
      "execution_count": 28,
      "outputs": []
    },
    {
      "cell_type": "code",
      "source": [
        "ap_k(recommended_list, bought_list, k=5)"
      ],
      "metadata": {
        "colab": {
          "base_uri": "https://localhost:8080/"
        },
        "id": "tpPoLvxgrUuh",
        "outputId": "2414e137-bf19-499e-b295-469d7a93450e"
      },
      "execution_count": 29,
      "outputs": [
        {
          "output_type": "execute_result",
          "data": {
            "text/plain": [
              "0.75"
            ]
          },
          "metadata": {},
          "execution_count": 29
        }
      ]
    },
    {
      "cell_type": "markdown",
      "source": [
        "MAP@k"
      ],
      "metadata": {
        "id": "1L3-5fkwraHc"
      }
    },
    {
      "cell_type": "code",
      "source": [
        "recommended_list_3_users = [[143, 156, 1134, 991, 27, 1543, 3345, 533, 11, 43], \n",
        "                    [1134, 533, 14, 4, 15, 1543, 1, 99, 27, 3345],\n",
        "                    [991, 3345, 27, 533, 43, 143, 1543, 156, 1134, 11]\n",
        "                           ]\n",
        "\n",
        "bought_list_3_users = [[521, 32, 143],  # юзер 1\n",
        "                       [143, 156, 991, 43, 11], # юзер 2\n",
        "                       [1,2]] # юзер 3"
      ],
      "metadata": {
        "id": "rOMC1u6grYDZ"
      },
      "execution_count": 18,
      "outputs": []
    },
    {
      "cell_type": "code",
      "source": [
        "def map_k(recommended_list, bought_list, k=5):\n",
        "    bought_list = np.array(bought_list)\n",
        "    recommended_list = np.array(recommended_list)[:k]\n",
        "    \n",
        "    relevant_indexes = np.nonzero(np.isin(recommended_list, bought_list))[0]\n",
        "    if len(relevant_indexes) == 0:\n",
        "        return 0\n",
        "    \n",
        "    amount_relevant = len(relevant_indexes)\n",
        "            \n",
        "    sum_ = sum([precision_at_k(recommended_list, bought_list, k=index_relevant+1) for index_relevant in relevant_indexes])\n",
        "    return sum_/amount_relevant"
      ],
      "metadata": {
        "id": "zsR-Pw9trfCl"
      },
      "execution_count": 26,
      "outputs": []
    },
    {
      "cell_type": "code",
      "source": [
        "map_k(recommended_list, bought_list, k=5)"
      ],
      "metadata": {
        "colab": {
          "base_uri": "https://localhost:8080/"
        },
        "id": "DYEdjWq8roIJ",
        "outputId": "a0f95024-568a-4f2a-a275-b44f517a7642"
      },
      "execution_count": 27,
      "outputs": [
        {
          "output_type": "execute_result",
          "data": {
            "text/plain": [
              "0.75"
            ]
          },
          "metadata": {},
          "execution_count": 27
        }
      ]
    },
    {
      "cell_type": "markdown",
      "source": [
        "Mean Reciprocal Rank ( MRR@k )"
      ],
      "metadata": {
        "id": "CfZK8cHQs4PI"
      }
    },
    {
      "cell_type": "code",
      "source": [
        "def reciprocal_rank(recommended_list, bought_list, k=1):\n",
        "    recommended_list = recommended_list[:k]\n",
        "    ranks = 0\n",
        "    for item_rec in recommended_list:\n",
        "        for i, item_bought in enumerate(bought_list):\n",
        "            if item_rec == item_bought:\n",
        "                ranks += 1 / (i+1)\n",
        "    return ranks / len(recommended_list)"
      ],
      "metadata": {
        "id": "-VeoJiBns40x"
      },
      "execution_count": 32,
      "outputs": []
    },
    {
      "cell_type": "code",
      "source": [
        "reciprocal_rank(recommended_list, bought_list, k=1)"
      ],
      "metadata": {
        "colab": {
          "base_uri": "https://localhost:8080/"
        },
        "id": "4Vzs-898tFs3",
        "outputId": "dfd498e6-33a5-49dd-9c00-015fa2941b98"
      },
      "execution_count": 33,
      "outputs": [
        {
          "output_type": "execute_result",
          "data": {
            "text/plain": [
              "0.5"
            ]
          },
          "metadata": {},
          "execution_count": 33
        }
      ]
    }
  ]
}